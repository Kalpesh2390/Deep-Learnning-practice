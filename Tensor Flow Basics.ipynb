{
 "cells": [
  {
   "cell_type": "code",
   "execution_count": 1,
   "metadata": {},
   "outputs": [
    {
     "name": "stdout",
     "output_type": "stream",
     "text": [
      "TensorFlow version:  2.3.1\n"
     ]
    }
   ],
   "source": [
    "import tensorflow as tf\n",
    "print(\"TensorFlow version: \", tf.__version__)"
   ]
  },
  {
   "cell_type": "code",
   "execution_count": 2,
   "metadata": {},
   "outputs": [
    {
     "name": "stdout",
     "output_type": "stream",
     "text": [
      "---------Normal print command----------------------------\n",
      "tf.Tensor(3.0, shape=(), dtype=float32) tf.Tensor(4.0, shape=(), dtype=float32)\n",
      "---------tf.print to run graph---------------------------\n",
      "3\n",
      "4\n",
      "12\n"
     ]
    }
   ],
   "source": [
    "# Cerate 2 constant tensors and performs the multiplication\n",
    "node1 = tf.constant(3.0,tf.float32)\n",
    "node2 = tf.constant(4,tf.float32)\n",
    "print(\"---------Normal print command----------------------------\")\n",
    "print(node1,node2)\n",
    "c = node1 * node2\n",
    "print(\"---------tf.print to run graph---------------------------\")\n",
    "tf.print(node1)\n",
    "tf.print(node2)\n",
    "tf.print(c)"
   ]
  },
  {
   "cell_type": "code",
   "execution_count": 3,
   "metadata": {},
   "outputs": [
    {
     "name": "stdout",
     "output_type": "stream",
     "text": [
      "6\n",
      "7\n",
      "-1\n"
     ]
    }
   ],
   "source": [
    "# Cerate the 3 constant node and perform mul operation on a,b , 2. Perform the add operation on b,c 3. Pefrom substraction of 2 and 3\n",
    "\n",
    "a = tf.constant(2)\n",
    "b = tf.constant(3)\n",
    "c = tf.constant(4)\n",
    "\n",
    "d = tf.multiply(a,b)\n",
    "tf.print(d)\n",
    "e = tf.add(b,c)\n",
    "tf.print(e)\n",
    "final = tf.subtract(d,e)\n",
    "tf.print(final)\n"
   ]
  },
  {
   "cell_type": "code",
   "execution_count": 4,
   "metadata": {},
   "outputs": [
    {
     "data": {
      "text/plain": [
       "<module 'tensorflow._api.v2.version' from 'C:\\\\Users\\\\91805\\\\Documents\\\\AnacondaSetup\\\\lib\\\\site-packages\\\\tensorflow\\\\_api\\\\v2\\\\version\\\\__init__.py'>"
      ]
     },
     "execution_count": 4,
     "metadata": {},
     "output_type": "execute_result"
    }
   ],
   "source": [
    "# using Placeholder variables\n",
    "\n",
    "tf.version"
   ]
  },
  {
   "cell_type": "code",
   "execution_count": 5,
   "metadata": {},
   "outputs": [
    {
     "name": "stdout",
     "output_type": "stream",
     "text": [
      "tf.Tensor(\n",
      "[[1. 3.]\n",
      " [3. 7.]], shape=(2, 2), dtype=float32)\n",
      "(2, 2)\n"
     ]
    }
   ],
   "source": [
    "# Another Sample Example.\n",
    "\n",
    "c = tf.constant([[1.0, 2.0], [3.0, 4.0]])\n",
    "d = tf.constant([[1.0, 1.0], [0.0, 1.0]])\n",
    "e = tf.matmul(c, d)\n",
    "print(e)\n",
    "# Lets check the type for e\n",
    "\n",
    "type(e)\n",
    "print(e.shape)\n"
   ]
  },
  {
   "cell_type": "code",
   "execution_count": 6,
   "metadata": {},
   "outputs": [
    {
     "name": "stdout",
     "output_type": "stream",
     "text": [
      "[[3 3 3]\n",
      " [6 6 6]\n",
      " [9 9 9]]\n"
     ]
    }
   ],
   "source": [
    "# PlaceHolders\n",
    "# in below example we have given placeholder for 3*3 array\n",
    "tf.compat.v1.disable_eager_execution()\n",
    "a = tf.compat.v1.placeholder(tf.int32 , shape=(3,3))\n",
    "b = tf.constant(3)\n",
    "\n",
    "c = tf.multiply(b,a)\n",
    "\n",
    "with tf.compat.v1.Session() as sess:\n",
    "    print(sess.run(c,feed_dict={a:[[1,1,1],[2,2,2],[3,3,3]]}))\n"
   ]
  },
  {
   "cell_type": "code",
   "execution_count": 7,
   "metadata": {},
   "outputs": [
    {
     "data": {
      "text/plain": [
       "<tf.Tensor 'Const:0' shape=() dtype=int32>"
      ]
     },
     "execution_count": 7,
     "metadata": {},
     "output_type": "execute_result"
    }
   ],
   "source": [
    "b"
   ]
  },
  {
   "cell_type": "code",
   "execution_count": 8,
   "metadata": {},
   "outputs": [
    {
     "name": "stdout",
     "output_type": "stream",
     "text": [
      "[0.         0.3        0.6        0.90000004 1.2       ]\n"
     ]
    }
   ],
   "source": [
    "# Linear regression Model with Optimization.\n",
    "# We need y,x , W and b  \n",
    "# The equation is y = Wx + b\n",
    "# below step will just print the output of linear regression model.\n",
    "\n",
    "x = tf.compat.v1.placeholder(tf.float32)\n",
    "W = tf.Variable([0.3],tf.float32)\n",
    "b = tf.Variable([-0.3],tf.float32)\n",
    "y = tf.compat.v1.placeholder(tf.float32)\n",
    "linear_model = W*x + b\n",
    "\n",
    "init = tf.compat.v1.global_variables_initializer()\n",
    "\n",
    "with tf.compat.v1.Session() as sess:\n",
    "    sess.run(init)\n",
    "    print(sess.run(linear_model,feed_dict={x:[1,2,3,4,5]}))\n"
   ]
  },
  {
   "cell_type": "code",
   "execution_count": 9,
   "metadata": {},
   "outputs": [
    {
     "name": "stdout",
     "output_type": "stream",
     "text": [
      "27.9\n"
     ]
    }
   ],
   "source": [
    "# Compute the Loss \n",
    "\n",
    "\n",
    "squred_loss = tf.square(linear_model - y)\n",
    "total_loss = tf.reduce_sum(squred_loss)\n",
    "\n",
    "with tf.compat.v1.Session() as sess:\n",
    "    sess.run(init)\n",
    "    print(sess.run(total_loss,feed_dict={x:[1,2,3,4,5],y:[1,2,3,5,0]}))\n"
   ]
  },
  {
   "cell_type": "code",
   "execution_count": 10,
   "metadata": {},
   "outputs": [
    {
     "name": "stdout",
     "output_type": "stream",
     "text": [
      "[array([0.10000081], dtype=float32), array([1.899997], dtype=float32)]\n"
     ]
    }
   ],
   "source": [
    "# Optimization using Gradient Decend Optimizer\n",
    "\n",
    "Optimizer1 = tf.compat.v1.train.GradientDescentOptimizer(learning_rate=0.01)\n",
    "train = Optimizer1.minimize(total_loss)\n",
    "\n",
    "with tf.compat.v1.Session() as sess:\n",
    "    sess.run(init)\n",
    "    for i in range(100000):\n",
    "        sess.run(train,feed_dict={x:[1,2,3,4,5],y:[1,2,3,5,0]})\n",
    "    \n",
    "    print(sess.run([W,b]))"
   ]
  },
  {
   "cell_type": "code",
   "execution_count": 11,
   "metadata": {},
   "outputs": [
    {
     "name": "stdout",
     "output_type": "stream",
     "text": [
      "14.700001\n"
     ]
    }
   ],
   "source": [
    "W = 0.10000081\n",
    "b = 1.899997\n",
    "linear_model = W*x + b\n",
    "\n",
    "squred_loss = tf.square(linear_model - y)\n",
    "total_loss = tf.reduce_sum(squred_loss)\n",
    "\n",
    "with tf.compat.v1.Session() as sess:\n",
    "    print(sess.run(total_loss,feed_dict={x:[1,2,3,4,5],y:[1,2,3,5,0]}))"
   ]
  },
  {
   "cell_type": "code",
   "execution_count": 12,
   "metadata": {},
   "outputs": [],
   "source": [
    "a = tf.Variable(2.0,tf.float16)"
   ]
  },
  {
   "cell_type": "code",
   "execution_count": 13,
   "metadata": {},
   "outputs": [
    {
     "data": {
      "text/plain": [
       "<tf.Variable 'Variable_2:0' shape=() dtype=float32>"
      ]
     },
     "execution_count": 13,
     "metadata": {},
     "output_type": "execute_result"
    }
   ],
   "source": [
    "a"
   ]
  },
  {
   "cell_type": "code",
   "execution_count": 14,
   "metadata": {},
   "outputs": [
    {
     "name": "stdout",
     "output_type": "stream",
     "text": [
      "<tf.Variable 'Variable_2:0' shape=() dtype=float32>\n"
     ]
    }
   ],
   "source": [
    "print(a)"
   ]
  },
  {
   "cell_type": "code",
   "execution_count": 23,
   "metadata": {},
   "outputs": [
    {
     "name": "stdout",
     "output_type": "stream",
     "text": [
      "<tf.Variable 'Variable_5:0' shape=(3, 3) dtype=float32>\n"
     ]
    }
   ],
   "source": [
    "X = tf.Variable(tf.random.normal([3,3]),(3,3))\n",
    "print(X)"
   ]
  },
  {
   "cell_type": "code",
   "execution_count": 25,
   "metadata": {},
   "outputs": [],
   "source": [
    "?tf.random.normal"
   ]
  },
  {
   "cell_type": "code",
   "execution_count": null,
   "metadata": {},
   "outputs": [],
   "source": []
  },
  {
   "cell_type": "code",
   "execution_count": 32,
   "metadata": {},
   "outputs": [],
   "source": [
    "a = tf.random.normal(shape=(3,3))"
   ]
  },
  {
   "cell_type": "code",
   "execution_count": 37,
   "metadata": {},
   "outputs": [
    {
     "name": "stdout",
     "output_type": "stream",
     "text": [
      "<tf.Variable 'Variable_8:0' shape=(3, 3) dtype=float32>\n"
     ]
    }
   ],
   "source": [
    "b= tf.Variable(a)\n",
    "print(b)"
   ]
  },
  {
   "cell_type": "code",
   "execution_count": 42,
   "metadata": {},
   "outputs": [
    {
     "name": "stdout",
     "output_type": "stream",
     "text": [
      "Tensor(\"random_uniform_3/RandomUniform:0\", shape=(2, 2), dtype=float32)\n"
     ]
    }
   ],
   "source": [
    "a = tf.random.uniform(shape=[2,2],dtype=tf.float32)\n",
    "print(a)"
   ]
  },
  {
   "cell_type": "code",
   "execution_count": null,
   "metadata": {},
   "outputs": [],
   "source": []
  }
 ],
 "metadata": {
  "kernelspec": {
   "display_name": "Python 3",
   "language": "python",
   "name": "python3"
  },
  "language_info": {
   "codemirror_mode": {
    "name": "ipython",
    "version": 3
   },
   "file_extension": ".py",
   "mimetype": "text/x-python",
   "name": "python",
   "nbconvert_exporter": "python",
   "pygments_lexer": "ipython3",
   "version": "3.7.6"
  }
 },
 "nbformat": 4,
 "nbformat_minor": 4
}

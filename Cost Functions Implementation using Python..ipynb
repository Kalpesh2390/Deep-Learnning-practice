{
 "cells": [
  {
   "cell_type": "code",
   "execution_count": 62,
   "metadata": {},
   "outputs": [],
   "source": [
    "import pandas as pd\n",
    "import numpy as np"
   ]
  },
  {
   "cell_type": "code",
   "execution_count": 63,
   "metadata": {},
   "outputs": [],
   "source": [
    "y_true = np.array([1,1,1,1])\n",
    "y_pred = np.array([2,3,4,5])"
   ]
  },
  {
   "cell_type": "code",
   "execution_count": 76,
   "metadata": {},
   "outputs": [],
   "source": [
    "# Mean Absolute Error\n",
    "\n",
    "def MAE1(y_true,y_pred):\n",
    "    Total_error = 0\n",
    "    for i_true,i_pred in zip(y_true,y_pred):\n",
    "        Total_error += np.abs(i_true-i_pred)\n",
    "        total_len = len(y_true)\n",
    "        Mean_absolute_error = Total_error / total_len\n",
    "    return(Mean_absolute_error)\n",
    "    "
   ]
  },
  {
   "cell_type": "code",
   "execution_count": 77,
   "metadata": {},
   "outputs": [
    {
     "name": "stdout",
     "output_type": "stream",
     "text": [
      "2.5\n"
     ]
    }
   ],
   "source": [
    "print(MAE1(y_true,y_pred))"
   ]
  },
  {
   "cell_type": "code",
   "execution_count": 78,
   "metadata": {},
   "outputs": [],
   "source": [
    "# Mean Squred error"
   ]
  },
  {
   "cell_type": "code",
   "execution_count": 83,
   "metadata": {},
   "outputs": [],
   "source": [
    "def MSE1(y_true,y_pred):\n",
    "    Total_error = 0\n",
    "    for i_true,i_pred in zip(y_true,y_pred):\n",
    "        Total_error += np.square(i_true-i_pred)\n",
    "        \n",
    "        total_len = len(y_true)\n",
    "        Mean_squred_error = Total_error / total_len\n",
    "    return(Mean_squred_error)"
   ]
  },
  {
   "cell_type": "code",
   "execution_count": 84,
   "metadata": {},
   "outputs": [
    {
     "data": {
      "text/plain": [
       "7.5"
      ]
     },
     "execution_count": 84,
     "metadata": {},
     "output_type": "execute_result"
    }
   ],
   "source": [
    "MSE1(y_true,y_pred)"
   ]
  },
  {
   "cell_type": "code",
   "execution_count": null,
   "metadata": {},
   "outputs": [],
   "source": [
    "# Log Error / Entropy Error"
   ]
  },
  {
   "cell_type": "code",
   "execution_count": 93,
   "metadata": {},
   "outputs": [],
   "source": [
    "def LogError(y_true,y_pred):\n",
    "    Total_error = 0\n",
    "    for i_true,i_pred in zip(y_true,y_pred):\n",
    "        Total_error +=  -(i_true*np.log(i_pred) + i_pred * np.log(i_true))\n",
    "        total_len = len(y_true)\n",
    "        EntropyLoss = Total_error/total_len\n",
    "    return EntropyLoss"
   ]
  },
  {
   "cell_type": "code",
   "execution_count": 94,
   "metadata": {},
   "outputs": [
    {
     "data": {
      "text/plain": [
       "-1.1968729356955115"
      ]
     },
     "execution_count": 94,
     "metadata": {},
     "output_type": "execute_result"
    }
   ],
   "source": [
    "LogError(y_true,y_pred)"
   ]
  }
 ],
 "metadata": {
  "kernelspec": {
   "display_name": "Python 3",
   "language": "python",
   "name": "python3"
  },
  "language_info": {
   "codemirror_mode": {
    "name": "ipython",
    "version": 3
   },
   "file_extension": ".py",
   "mimetype": "text/x-python",
   "name": "python",
   "nbconvert_exporter": "python",
   "pygments_lexer": "ipython3",
   "version": "3.7.6"
  }
 },
 "nbformat": 4,
 "nbformat_minor": 4
}
